{
  "nbformat": 4,
  "nbformat_minor": 0,
  "metadata": {
    "colab": {
      "provenance": [],
      "authorship_tag": "ABX9TyOEJZCECNehKLYWDu/CP9kU",
      "include_colab_link": true
    },
    "kernelspec": {
      "name": "python3",
      "display_name": "Python 3"
    },
    "language_info": {
      "name": "python"
    }
  },
  "cells": [
    {
      "cell_type": "markdown",
      "metadata": {
        "id": "view-in-github",
        "colab_type": "text"
      },
      "source": [
        "<a href=\"https://colab.research.google.com/github/nigeltc/node-code/blob/master/NWP01_Language_Procession_and_Python.ipynb\" target=\"_parent\"><img src=\"https://colab.research.google.com/assets/colab-badge.svg\" alt=\"Open In Colab\"/></a>"
      ]
    },
    {
      "cell_type": "markdown",
      "source": [
        "# 01 Language Processing with Python"
      ],
      "metadata": {
        "id": "G5P8WXptyQ6W"
      }
    },
    {
      "cell_type": "markdown",
      "source": [
        "## Getting Started with NLTK"
      ],
      "metadata": {
        "id": "KMfBCg2-zTIU"
      }
    },
    {
      "cell_type": "code",
      "source": [
        "#import nltk\n",
        "\n",
        "#nltk.download()\n"
      ],
      "metadata": {
        "id": "GzuMRYfmyZzs"
      },
      "execution_count": 1,
      "outputs": []
    },
    {
      "cell_type": "code",
      "source": [
        "#nltk.data.path"
      ],
      "metadata": {
        "id": "vXrKdn9apSLt"
      },
      "execution_count": 2,
      "outputs": []
    },
    {
      "cell_type": "code",
      "source": [
        "from google.colab import drive"
      ],
      "metadata": {
        "id": "qSviW5JPpXXZ"
      },
      "execution_count": 3,
      "outputs": []
    },
    {
      "cell_type": "code",
      "source": [
        "drive.mount(\"/content/gdrive\", force_remount=True)"
      ],
      "metadata": {
        "colab": {
          "base_uri": "https://localhost:8080/"
        },
        "id": "d9Oz9jsypzBE",
        "outputId": "863f69fe-12a2-4c6d-eac3-4eba6756e7d4"
      },
      "execution_count": 4,
      "outputs": [
        {
          "output_type": "stream",
          "name": "stdout",
          "text": [
            "Mounted at /content/gdrive\n"
          ]
        }
      ]
    },
    {
      "cell_type": "code",
      "source": [
        "%env NLTK_DATA=/content/gdrive/nltk_data"
      ],
      "metadata": {
        "colab": {
          "base_uri": "https://localhost:8080/"
        },
        "id": "Sk7UrNEIqBah",
        "outputId": "46f23835-5017-49fb-dac9-51fc7f8d9ba9"
      },
      "execution_count": 5,
      "outputs": [
        {
          "output_type": "stream",
          "name": "stdout",
          "text": [
            "env: NLTK_DATA=/content/gdrive/nltk_data\n"
          ]
        }
      ]
    },
    {
      "cell_type": "code",
      "source": [
        "import nltk"
      ],
      "metadata": {
        "id": "g46oL_u9rRSR"
      },
      "execution_count": 6,
      "outputs": []
    },
    {
      "cell_type": "code",
      "source": [
        "nltk.data.path"
      ],
      "metadata": {
        "colab": {
          "base_uri": "https://localhost:8080/"
        },
        "id": "M-jyfJshrSuA",
        "outputId": "be915612-9bd7-4225-a3b7-d9eda01c5d9d"
      },
      "execution_count": 7,
      "outputs": [
        {
          "output_type": "execute_result",
          "data": {
            "text/plain": [
              "['/content/gdrive/nltk_data',\n",
              " '/root/nltk_data',\n",
              " '/usr/nltk_data',\n",
              " '/usr/share/nltk_data',\n",
              " '/usr/lib/nltk_data',\n",
              " '/usr/share/nltk_data',\n",
              " '/usr/local/share/nltk_data',\n",
              " '/usr/lib/nltk_data',\n",
              " '/usr/local/lib/nltk_data']"
            ]
          },
          "metadata": {},
          "execution_count": 7
        }
      ]
    },
    {
      "cell_type": "code",
      "source": [
        "#nltk.download()"
      ],
      "metadata": {
        "id": "v4Fm3HYlrVgE"
      },
      "execution_count": 8,
      "outputs": []
    },
    {
      "cell_type": "code",
      "source": [],
      "metadata": {
        "id": "PnxYTsrErxEt"
      },
      "execution_count": 8,
      "outputs": []
    },
    {
      "cell_type": "code",
      "source": [
        "from nltk.book import *"
      ],
      "metadata": {
        "colab": {
          "base_uri": "https://localhost:8080/"
        },
        "id": "MoBmjujIznxv",
        "outputId": "127317e8-761f-4577-867e-04b47dab7f2b"
      },
      "execution_count": 9,
      "outputs": [
        {
          "output_type": "stream",
          "name": "stdout",
          "text": [
            "*** Introductory Examples for the NLTK Book ***\n",
            "Loading text1, ..., text9 and sent1, ..., sent9\n",
            "Type the name of the text or sentence to view it.\n",
            "Type: 'texts()' or 'sents()' to list the materials.\n",
            "text1: Moby Dick by Herman Melville 1851\n",
            "text2: Sense and Sensibility by Jane Austen 1811\n",
            "text3: The Book of Genesis\n",
            "text4: Inaugural Address Corpus\n",
            "text5: Chat Corpus\n",
            "text6: Monty Python and the Holy Grail\n",
            "text7: Wall Street Journal\n",
            "text8: Personals Corpus\n",
            "text9: The Man Who Was Thursday by G . K . Chesterton 1908\n"
          ]
        }
      ]
    },
    {
      "cell_type": "code",
      "source": [
        "text1"
      ],
      "metadata": {
        "colab": {
          "base_uri": "https://localhost:8080/"
        },
        "id": "FB3ZpeDHz-fS",
        "outputId": "d7508a7f-ef97-4513-fe89-94cd3dec3b74"
      },
      "execution_count": 10,
      "outputs": [
        {
          "output_type": "execute_result",
          "data": {
            "text/plain": [
              "<Text: Moby Dick by Herman Melville 1851>"
            ]
          },
          "metadata": {},
          "execution_count": 10
        }
      ]
    },
    {
      "cell_type": "code",
      "source": [
        "text2"
      ],
      "metadata": {
        "colab": {
          "base_uri": "https://localhost:8080/"
        },
        "id": "Jg06yJi50EGO",
        "outputId": "3597219a-d3a8-4992-cd0c-cdc7b6b89f0e"
      },
      "execution_count": 11,
      "outputs": [
        {
          "output_type": "execute_result",
          "data": {
            "text/plain": [
              "<Text: Sense and Sensibility by Jane Austen 1811>"
            ]
          },
          "metadata": {},
          "execution_count": 11
        }
      ]
    },
    {
      "cell_type": "markdown",
      "source": [
        "## Searching Text"
      ],
      "metadata": {
        "id": "TN-ecs170fZF"
      }
    },
    {
      "cell_type": "code",
      "source": [
        "text1.concordance(\"monstrous\")"
      ],
      "metadata": {
        "colab": {
          "base_uri": "https://localhost:8080/"
        },
        "id": "IQBSRQBT0qds",
        "outputId": "c0ef1938-0112-4320-b4af-ef420547d6b8"
      },
      "execution_count": 12,
      "outputs": [
        {
          "output_type": "stream",
          "name": "stdout",
          "text": [
            "Displaying 11 of 11 matches:\n",
            "ong the former , one was of a most monstrous size . ... This came towards us , \n",
            "ON OF THE PSALMS . \" Touching that monstrous bulk of the whale or ork we have r\n",
            "ll over with a heathenish array of monstrous clubs and spears . Some were thick\n",
            "d as you gazed , and wondered what monstrous cannibal and savage could ever hav\n",
            "that has survived the flood ; most monstrous and most mountainous ! That Himmal\n",
            "they might scout at Moby Dick as a monstrous fable , or still worse and more de\n",
            "th of Radney .'\" CHAPTER 55 Of the Monstrous Pictures of Whales . I shall ere l\n",
            "ing Scenes . In connexion with the monstrous pictures of whales , I am strongly\n",
            "ere to enter upon those still more monstrous stories of them which are to be fo\n",
            "ght have been rummaged out of this monstrous cabinet there is no telling . But \n",
            "of Whale - Bones ; for Whales of a monstrous size are oftentimes cast up dead u\n"
          ]
        }
      ]
    },
    {
      "cell_type": "code",
      "source": [
        "text3.concordance(\"lived\")"
      ],
      "metadata": {
        "colab": {
          "base_uri": "https://localhost:8080/"
        },
        "id": "f7yppI-j0wWY",
        "outputId": "e1d0ad8b-7647-4eed-c400-e30288001c01"
      },
      "execution_count": 13,
      "outputs": [
        {
          "output_type": "stream",
          "name": "stdout",
          "text": [
            "Displaying 25 of 38 matches:\n",
            "ay when they were created . And Adam lived an hundred and thirty years , and be\n",
            "ughters : And all the days that Adam lived were nine hundred and thirty yea and\n",
            "nd thirty yea and he died . And Seth lived an hundred and five years , and bega\n",
            "ve years , and begat Enos : And Seth lived after he begat Enos eight hundred an\n",
            "welve years : and he died . And Enos lived ninety years , and begat Cainan : An\n",
            " years , and begat Cainan : And Enos lived after he begat Cainan eight hundred \n",
            "ive years : and he died . And Cainan lived seventy years and begat Mahalaleel :\n",
            "rs and begat Mahalaleel : And Cainan lived after he begat Mahalaleel eight hund\n",
            "years : and he died . And Mahalaleel lived sixty and five years , and begat Jar\n",
            "s , and begat Jared : And Mahalaleel lived after he begat Jared eight hundred a\n",
            "and five yea and he died . And Jared lived an hundred sixty and two years , and\n",
            "o years , and he begat Eno And Jared lived after he begat Enoch eight hundred y\n",
            " and two yea and he died . And Enoch lived sixty and five years , and begat Met\n",
            " ; for God took him . And Methuselah lived an hundred eighty and seven years , \n",
            " , and begat Lamech . And Methuselah lived after he begat Lamech seven hundred \n",
            "nd nine yea and he died . And Lamech lived an hundred eighty and two years , an\n",
            "ch the LORD hath cursed . And Lamech lived after he begat Noah five hundred nin\n",
            "naan shall be his servant . And Noah lived after the flood three hundred and fi\n",
            "xad two years after the flo And Shem lived after he begat Arphaxad five hundred\n",
            "at sons and daughters . And Arphaxad lived five and thirty years , and begat Sa\n",
            "ars , and begat Salah : And Arphaxad lived after he begat Salah four hundred an\n",
            "begat sons and daughters . And Salah lived thirty years , and begat Eber : And \n",
            "y years , and begat Eber : And Salah lived after he begat Eber four hundred and\n",
            " begat sons and daughters . And Eber lived four and thirty years , and begat Pe\n",
            "y years , and begat Peleg : And Eber lived after he begat Peleg four hundred an\n"
          ]
        }
      ]
    },
    {
      "cell_type": "code",
      "source": [
        "help(text3.concordance)"
      ],
      "metadata": {
        "colab": {
          "base_uri": "https://localhost:8080/"
        },
        "id": "DntDZbr208T3",
        "outputId": "644a4ec7-7e72-4ab9-c708-18f38bf2673b"
      },
      "execution_count": 14,
      "outputs": [
        {
          "output_type": "stream",
          "name": "stdout",
          "text": [
            "Help on method concordance in module nltk.text:\n",
            "\n",
            "concordance(word, width=79, lines=25) method of nltk.text.Text instance\n",
            "    Prints a concordance for ``word`` with the specified context window.\n",
            "    Word matching is not case-sensitive.\n",
            "    \n",
            "    :param word: The target word or phrase (a list of strings)\n",
            "    :type word: str or list\n",
            "    :param width: The width of each line, in characters (default=80)\n",
            "    :type width: int\n",
            "    :param lines: The number of lines to display (default=25)\n",
            "    :type lines: int\n",
            "    \n",
            "    :seealso: ``ConcordanceIndex``\n",
            "\n"
          ]
        }
      ]
    },
    {
      "cell_type": "code",
      "source": [
        "text3.concordance([\"lived\", \"after\"])"
      ],
      "metadata": {
        "colab": {
          "base_uri": "https://localhost:8080/"
        },
        "id": "tpPgdMlE1TeK",
        "outputId": "b035a097-6ef8-44d3-808a-128cee7b2bc4"
      },
      "execution_count": 15,
      "outputs": [
        {
          "output_type": "stream",
          "name": "stdout",
          "text": [
            "Displaying 16 of 16 matches:\n",
            "years , and begat Enos : And Seth lived after he begat Enos eight hundred and s\n",
            "ars , and begat Cainan : And Enos lived after he begat Cainan eight hundred and\n",
            "and begat Mahalaleel : And Cainan lived after he begat Mahalaleel eight hundred\n",
            " and begat Jared : And Mahalaleel lived after he begat Jared eight hundred and \n",
            "ears , and he begat Eno And Jared lived after he begat Enoch eight hundred year\n",
            "and begat Lamech . And Methuselah lived after he begat Lamech seven hundred eig\n",
            "the LORD hath cursed . And Lamech lived after he begat Noah five hundred ninety\n",
            "n shall be his servant . And Noah lived after the flood three hundred and fifty\n",
            " two years after the flo And Shem lived after he begat Arphaxad five hundred ye\n",
            " , and begat Salah : And Arphaxad lived after he begat Salah four hundred and t\n",
            "ears , and begat Eber : And Salah lived after he begat Eber four hundred and th\n",
            "ears , and begat Peleg : And Eber lived after he begat Peleg four hundred and t\n",
            "years , and begat Reu : And Peleg lived after he begat Reu two hundred and nine\n",
            "years , and begat Serug : And Reu lived after he begat Serug two hundred and se\n",
            "ars , and begat Nahor : And Serug lived after he begat Nahor two hundred years \n",
            "ars , and begat Terah : And Nahor lived after he begat Terah an hundred and nin\n"
          ]
        }
      ]
    },
    {
      "cell_type": "code",
      "source": [
        "text1.similar(\"monstrous\")"
      ],
      "metadata": {
        "colab": {
          "base_uri": "https://localhost:8080/"
        },
        "id": "SUuq8ZBe1m83",
        "outputId": "4153cc3e-d340-4b9f-f2cb-5da59d676c4b"
      },
      "execution_count": 16,
      "outputs": [
        {
          "output_type": "stream",
          "name": "stdout",
          "text": [
            "true contemptible christian abundant few part mean careful puzzled\n",
            "mystifying passing curious loving wise doleful gamesome singular\n",
            "delightfully perilous fearless\n"
          ]
        }
      ]
    },
    {
      "cell_type": "code",
      "source": [
        "help(text1.similar)"
      ],
      "metadata": {
        "colab": {
          "base_uri": "https://localhost:8080/"
        },
        "id": "lDzOJ1Pm1yEm",
        "outputId": "7f94c559-3f86-477b-a5c0-05fb99c84fcc"
      },
      "execution_count": 17,
      "outputs": [
        {
          "output_type": "stream",
          "name": "stdout",
          "text": [
            "Help on method similar in module nltk.text:\n",
            "\n",
            "similar(word, num=20) method of nltk.text.Text instance\n",
            "    Distributional similarity: find other words which appear in the\n",
            "    same contexts as the specified word; list most similar words first.\n",
            "    \n",
            "    :param word: The word used to seed the similarity search\n",
            "    :type word: str\n",
            "    :param num: The number of words to generate (default=20)\n",
            "    :type num: int\n",
            "    :seealso: ContextIndex.similar_words()\n",
            "\n"
          ]
        }
      ]
    },
    {
      "cell_type": "code",
      "source": [
        "text2.similar(\"monstrous\")"
      ],
      "metadata": {
        "colab": {
          "base_uri": "https://localhost:8080/"
        },
        "id": "SMFrQcJq17oH",
        "outputId": "abb5e5e6-373b-4f75-9714-af8a19b4f238"
      },
      "execution_count": 18,
      "outputs": [
        {
          "output_type": "stream",
          "name": "stdout",
          "text": [
            "very so exceedingly heartily a as good great extremely remarkably\n",
            "sweet vast amazingly\n"
          ]
        }
      ]
    },
    {
      "cell_type": "code",
      "source": [
        "text2.common_contexts([\"monstrous\", \"very\"])"
      ],
      "metadata": {
        "colab": {
          "base_uri": "https://localhost:8080/"
        },
        "id": "J78_Ufl02KLt",
        "outputId": "04e74736-28cb-435e-e939-a17b26bd0944"
      },
      "execution_count": 19,
      "outputs": [
        {
          "output_type": "stream",
          "name": "stdout",
          "text": [
            "am_glad a_pretty a_lucky is_pretty be_glad\n"
          ]
        }
      ]
    },
    {
      "cell_type": "code",
      "source": [
        "text3.concordance(\"profit\")"
      ],
      "metadata": {
        "colab": {
          "base_uri": "https://localhost:8080/"
        },
        "id": "zsAWuGB92Xgx",
        "outputId": "b3aacb3d-7637-4a0c-a10e-e0540b419043"
      },
      "execution_count": 20,
      "outputs": [
        {
          "output_type": "stream",
          "name": "stdout",
          "text": [
            "Displaying 2 of 2 matches:\n",
            "I am at the point to die : and what profit shall this birthright do to me ? An\n",
            "Judah said unto his brethren , What profit is it if we slay our brother , and \n"
          ]
        }
      ]
    },
    {
      "cell_type": "code",
      "source": [
        "text7.concordance(\"profit\")"
      ],
      "metadata": {
        "colab": {
          "base_uri": "https://localhost:8080/"
        },
        "id": "najnP1Gf2tcV",
        "outputId": "a8e0941c-ee95-436a-b8c5-e80a2975192f"
      },
      "execution_count": 21,
      "outputs": [
        {
          "output_type": "stream",
          "name": "stdout",
          "text": [
            "Displaying 25 of 64 matches:\n",
            "ould have been able *-2 to report a profit of $ 19.3 million *U* *ICH*-3 for t\n",
            " until a more satisfactory level of profit is achieved and maintained *-1 , ''\n",
            " has reported declines in operating profit in each of the past three years , d\n",
            "mic Organizations , said *T*-1 . `` Profit may be low , but at least costs sho\n",
            "s a share . A year earlier , it had profit of $ 7.5 million *U* , or 18 cents \n",
            "ng Co. posted a 62 % rise in pretax profit to 5.276 billion yen -LRB- $ 36.9 m\n",
            "eholders into * buying him out at a profit . Mr. Pickens made considerable pol\n",
            "h trading-company venture capital . Profit , at least in the short term , is u\n",
            "hen Mr. Hahn took the reins *T*-1 . Profit from continuing operations has soar\n",
            "sade was based *-23 on greed or the profit motive . But is n't the desire for \n",
            " motive . But is n't the desire for profit the driving force behind those who \n",
            "* to close at $ 47.125 *U* . `` The profit motive of the major shareholders ha\n",
            " widely seen *-1 as sales , and not profit , oriented . `` New managers would \n",
            "and a 15 % improvement in operating profit for fiscal 1989 . `` The way that w\n",
            "imed commodities at `` considerable profit , '' the agency 's 240-page report \n",
            " lock in the difference in price as profit . Such program trades , which *T*-7\n",
            " stock typically earns a razor-thin profit of $ 25,000 *U* . *-1 To keep progr\n",
            " *-2 downward by those seeking * to profit from lower prices , namely short se\n",
            "arkets largely in New York . *-1 To profit from an index-arbitrage opportunity\n",
            " to the arbitrage trader some small profit in order *-1 to get quick and certa\n",
            " ultimate goal of any investor is a profit motive , and regulators should not \n",
            "he long term . A free market with a profit motive will attract each investor t\n",
            "y sizable mutual-fund company could profit from * offering it to small investo\n",
            " him from *-1 gaining any temporary profit . If government or private watchdog\n",
            " then use *T*-1 * to turn a healthy profit . `` This stadium shows that anythi\n"
          ]
        }
      ]
    },
    {
      "cell_type": "code",
      "source": [
        "text3.similar(\"profit\")"
      ],
      "metadata": {
        "colab": {
          "base_uri": "https://localhost:8080/"
        },
        "id": "xwp8YaEM21Kv",
        "outputId": "f1830a49-2a8a-4ec6-d0c8-412a1d3ce86f"
      },
      "execution_count": 22,
      "outputs": [
        {
          "output_type": "stream",
          "name": "stdout",
          "text": [
            "god good he man ye pledge deed\n"
          ]
        }
      ]
    },
    {
      "cell_type": "code",
      "source": [
        "text7.similar(\"profit\")"
      ],
      "metadata": {
        "colab": {
          "base_uri": "https://localhost:8080/"
        },
        "id": "zuRhKf4i298G",
        "outputId": "53d4502f-c078-4320-fe9f-7d5e384fdaba"
      },
      "execution_count": 23,
      "outputs": [
        {
          "output_type": "stream",
          "name": "stdout",
          "text": [
            "it billion but yield million earnings asbestos all drop gains officer\n",
            "review china result charge years director group and form\n"
          ]
        }
      ]
    },
    {
      "cell_type": "code",
      "source": [
        "text3.common_contexts([\"profit\", \"deed\"])"
      ],
      "metadata": {
        "colab": {
          "base_uri": "https://localhost:8080/"
        },
        "id": "cQzM5tWF3HKH",
        "outputId": "9689bb0f-3491-4c96-cc60-a47212fadb1c"
      },
      "execution_count": 24,
      "outputs": [
        {
          "output_type": "stream",
          "name": "stdout",
          "text": [
            "what_is\n"
          ]
        }
      ]
    },
    {
      "cell_type": "code",
      "source": [
        "text7.common_contexts([\"profit\", \"yield\"])"
      ],
      "metadata": {
        "colab": {
          "base_uri": "https://localhost:8080/"
        },
        "id": "yqYXX6jN3e2g",
        "outputId": "d1c27097-0763-4e95-d5df-ce3abc76bee1"
      },
      "execution_count": 25,
      "outputs": [
        {
          "output_type": "stream",
          "name": "stdout",
          "text": [
            "a_of to_from to_in\n"
          ]
        }
      ]
    },
    {
      "cell_type": "code",
      "source": [
        "text4.dispersion_plot([\"citizens\", \"democracy\", \"freedom\", \"duties\",\"America\"])"
      ],
      "metadata": {
        "colab": {
          "base_uri": "https://localhost:8080/",
          "height": 295
        },
        "id": "HdEAuOAh3md2",
        "outputId": "df938d0c-8dd7-4427-990f-fa192feb50d6"
      },
      "execution_count": 26,
      "outputs": [
        {
          "output_type": "display_data",
          "data": {
            "text/plain": [
              "<Figure size 432x288 with 1 Axes>"
            ],
            "image/png": "[encoded data removed]"
          },
          "metadata": {
            "needs_background": "light"
          }
        }
      ]
    },
    {
      "cell_type": "code",
      "source": [
        "text3.generate()"
      ],
      "metadata": {
        "colab": {
          "base_uri": "https://localhost:8080/",
          "height": 209
        },
        "id": "g_M2fWND336Q",
        "outputId": "e16caa68-c7a9-4f6d-8cfb-86054733b078"
      },
      "execution_count": 27,
      "outputs": [
        {
          "output_type": "stream",
          "name": "stderr",
          "text": [
            "Building ngram index...\n"
          ]
        },
        {
          "output_type": "stream",
          "name": "stdout",
          "text": [
            "lamb for a burnt offering in the city . , duke Elah , duke Shobal ,\n",
            "and Akan . and looked upon my affliction . Because the LORD God\n",
            "amongst the trees of the mighty God of Abraham his father , that they\n",
            "found a plain man , and the wo The blessings of my hand to do justice\n",
            "and judgment ; that the LORD that spake unto me , and put him into the\n",
            "ark , and for your little ones . they heard that they have brought it\n",
            "unto Hagar , Sarai ' s brother will I slay\n"
          ]
        },
        {
          "output_type": "execute_result",
          "data": {
            "text/plain": [
              "\"lamb for a burnt offering in the city . , duke Elah , duke Shobal ,\\nand Akan . and looked upon my affliction . Because the LORD God\\namongst the trees of the mighty God of Abraham his father , that they\\nfound a plain man , and the wo The blessings of my hand to do justice\\nand judgment ; that the LORD that spake unto me , and put him into the\\nark , and for your little ones . they heard that they have brought it\\nunto Hagar , Sarai ' s brother will I slay\""
            ],
            "application/vnd.google.colaboratory.intrinsic+json": {
              "type": "string"
            }
          },
          "metadata": {},
          "execution_count": 27
        }
      ]
    },
    {
      "cell_type": "code",
      "source": [
        "text1.concordance(\"wound\")"
      ],
      "metadata": {
        "colab": {
          "base_uri": "https://localhost:8080/"
        },
        "id": "-zuRTDAT38Gq",
        "outputId": "80e0d363-0afe-449f-968b-353314f8392c"
      },
      "execution_count": 28,
      "outputs": [
        {
          "output_type": "stream",
          "name": "stdout",
          "text": [
            "Displaying 17 of 17 matches:\n",
            "aille , but to returne againe To his wound ' s worker , that with lowly dart , \n",
            "eds to death , for conscience is the wound , and there ' s naught to staunch it\n",
            " was the scar left by some desperate wound , no one could certainly say . By so\n",
            "o be oppositely voided by the gaping wound . Nor was this all . It was unsafe t\n",
            "t my free will had received a mortal wound ; and that another ' s mistake or mi\n",
            "wed by steady jets from the new made wound , which kept continually playing , w\n",
            "an ulcerous jet shot from this cruel wound , and goaded by it into more than su\n",
            "nd in the extraordinary agony of the wound , he was now dashing among the revol\n",
            "r he went . But agonizing as was the wound of this whale , and an appalling spe\n",
            "s us in the rear ; we are curing the wound , when whang come the arrows all rou\n",
            " s bidding . \" It was a shocking bad wound ,\" began the whale - surgeon ; \" and\n",
            "my best and severest endeavors , the wound kept getting worse and worse ; the t\n",
            "th was , sir , it was as ugly gaping wound as surgeon ever saw ; more than two \n",
            ", or any token of ever having been a wound --\" Well , the captain there will te\n",
            "t shoot two Miles into the Sea , and wound the Whales when they light upon ' em\n",
            "xtreme difficulty that the agonizing wound was entirely cured . Nor , at the ti\n",
            "e and longitude where his tormenting wound had been inflicted ; now that a vess\n"
          ]
        }
      ]
    },
    {
      "cell_type": "code",
      "source": [
        "text2.concordance(\"wound\")"
      ],
      "metadata": {
        "colab": {
          "base_uri": "https://localhost:8080/"
        },
        "id": "1mjMp_zV93yE",
        "outputId": "2831257a-2651-499f-a5ae-a3ca28d763ad"
      },
      "execution_count": 29,
      "outputs": [
        {
          "output_type": "stream",
          "name": "stdout",
          "text": [
            "Displaying 5 of 5 matches:\n",
            "dly knew what to say . She would not wound the feelings of her sister on any ac\n",
            " ' s lap , covered with kisses , her wound bathed with lavender - water , by on\n",
            "st herself to speak , lest she might wound Marianne still deeper by treating th\n",
            "olding her -- but I have no right to wound your feelings by attempting to descr\n",
            " , who had comparatively no power to wound them , sat pointedly slighted by bot\n"
          ]
        }
      ]
    },
    {
      "cell_type": "code",
      "source": [
        "text1.similar(\"wound\")"
      ],
      "metadata": {
        "colab": {
          "base_uri": "https://localhost:8080/"
        },
        "id": "i8xCMbuQ-JuM",
        "outputId": "2c14a5d3-444c-4292-ce33-ed1a25f4f9ff"
      },
      "execution_count": 30,
      "outputs": [
        {
          "output_type": "stream",
          "name": "stdout",
          "text": [
            "whale sea ship captain fire line bow rigging waters body world word\n",
            "more whales case day boat land days other\n"
          ]
        }
      ]
    },
    {
      "cell_type": "code",
      "source": [
        "text1.common_contexts([\"wound\", \"whale\"])"
      ],
      "metadata": {
        "colab": {
          "base_uri": "https://localhost:8080/"
        },
        "id": "CMBWs_eS-QUo",
        "outputId": "21575ab3-a4f1-4dde-f9af-d776695b0734"
      },
      "execution_count": 31,
      "outputs": [
        {
          "output_type": "stream",
          "name": "stdout",
          "text": [
            "the_and the_he the_of the_when\n"
          ]
        }
      ]
    },
    {
      "cell_type": "code",
      "source": [
        "text2.similar(\"wound\")"
      ],
      "metadata": {
        "colab": {
          "base_uri": "https://localhost:8080/"
        },
        "id": "esL1i8hQ-aQN",
        "outputId": "452c2d91-58f3-4b27-dbd6-9c8b8bc742d7"
      },
      "execution_count": 32,
      "outputs": [
        {
          "output_type": "stream",
          "name": "stdout",
          "text": [
            "receive have see engage be leave make avoid take allow hear change\n",
            "acknowledge by in at so produced that only\n"
          ]
        }
      ]
    },
    {
      "cell_type": "code",
      "source": [
        "text2.common_contexts([\"wound\", \"receive\"])"
      ],
      "metadata": {
        "colab": {
          "base_uri": "https://localhost:8080/"
        },
        "id": "CBCi1CYV-hRW",
        "outputId": "b1fdd0a0-bba9-489b-d660-b9a8a0c758e8"
      },
      "execution_count": 33,
      "outputs": [
        {
          "output_type": "stream",
          "name": "stdout",
          "text": [
            "not_the to_your to_them\n"
          ]
        }
      ]
    },
    {
      "cell_type": "code",
      "source": [
        "text6.dispersion_plot([\"Arthur\", \"Robin\", \"Lancelot\", \"Percival\"])"
      ],
      "metadata": {
        "colab": {
          "base_uri": "https://localhost:8080/",
          "height": 295
        },
        "id": "HXGn1vgd-sSt",
        "outputId": "237cbb87-ab18-4001-fe7c-2816c109925a"
      },
      "execution_count": 34,
      "outputs": [
        {
          "output_type": "display_data",
          "data": {
            "text/plain": [
              "<Figure size 432x288 with 1 Axes>"
            ],
            "image/png": "[encoded data removed]"
          },
          "metadata": {
            "needs_background": "light"
          }
        }
      ]
    },
    {
      "cell_type": "markdown",
      "source": [
        "## Counting Vocabulary"
      ],
      "metadata": {
        "id": "niaoG5NBB8A_"
      }
    },
    {
      "cell_type": "code",
      "source": [
        "len(text3)"
      ],
      "metadata": {
        "colab": {
          "base_uri": "https://localhost:8080/"
        },
        "id": "U2Yqy0I1CRHp",
        "outputId": "de603962-a215-49a2-a399-e5d9e7b7311d"
      },
      "execution_count": 35,
      "outputs": [
        {
          "output_type": "execute_result",
          "data": {
            "text/plain": [
              "44764"
            ]
          },
          "metadata": {},
          "execution_count": 35
        }
      ]
    },
    {
      "cell_type": "code",
      "source": [
        "# vocabulary\n",
        "sorted(set(text3))[:50]"
      ],
      "metadata": {
        "colab": {
          "base_uri": "https://localhost:8080/"
        },
        "id": "Z32ExOyrCU2G",
        "outputId": "0e7c98a4-5051-46a8-b76c-38e1594831cf"
      },
      "execution_count": 71,
      "outputs": [
        {
          "output_type": "execute_result",
          "data": {
            "text/plain": [
              "['!',\n",
              " \"'\",\n",
              " '(',\n",
              " ')',\n",
              " ',',\n",
              " ',)',\n",
              " '.',\n",
              " '.)',\n",
              " ':',\n",
              " ';',\n",
              " ';)',\n",
              " '?',\n",
              " '?)',\n",
              " 'A',\n",
              " 'Abel',\n",
              " 'Abelmizraim',\n",
              " 'Abidah',\n",
              " 'Abide',\n",
              " 'Abimael',\n",
              " 'Abimelech',\n",
              " 'Abr',\n",
              " 'Abrah',\n",
              " 'Abraham',\n",
              " 'Abram',\n",
              " 'Accad',\n",
              " 'Achbor',\n",
              " 'Adah',\n",
              " 'Adam',\n",
              " 'Adbeel',\n",
              " 'Admah',\n",
              " 'Adullamite',\n",
              " 'After',\n",
              " 'Aholibamah',\n",
              " 'Ahuzzath',\n",
              " 'Ajah',\n",
              " 'Akan',\n",
              " 'All',\n",
              " 'Allonbachuth',\n",
              " 'Almighty',\n",
              " 'Almodad',\n",
              " 'Also',\n",
              " 'Alvah',\n",
              " 'Alvan',\n",
              " 'Am',\n",
              " 'Amal',\n",
              " 'Amalek',\n",
              " 'Amalekites',\n",
              " 'Ammon',\n",
              " 'Amorite',\n",
              " 'Amorites']"
            ]
          },
          "metadata": {},
          "execution_count": 71
        }
      ]
    },
    {
      "cell_type": "code",
      "source": [
        "# size of vocabulary\n",
        "len(set(text3))"
      ],
      "metadata": {
        "colab": {
          "base_uri": "https://localhost:8080/"
        },
        "id": "0y-cxuFPCdY1",
        "outputId": "d8eb3668-b46c-48cf-8d9c-4f9a89cd5a93"
      },
      "execution_count": 37,
      "outputs": [
        {
          "output_type": "execute_result",
          "data": {
            "text/plain": [
              "2789"
            ]
          },
          "metadata": {},
          "execution_count": 37
        }
      ]
    },
    {
      "cell_type": "code",
      "source": [
        "# text size / vocabulary size\n",
        "len(text3)/len(set(text3))"
      ],
      "metadata": {
        "colab": {
          "base_uri": "https://localhost:8080/"
        },
        "id": "1tgeVYZWCniF",
        "outputId": "15c0845f-a3a1-48f1-f686-7a1e52799b35"
      },
      "execution_count": 38,
      "outputs": [
        {
          "output_type": "execute_result",
          "data": {
            "text/plain": [
              "16.050197203298673"
            ]
          },
          "metadata": {},
          "execution_count": 38
        }
      ]
    },
    {
      "cell_type": "code",
      "source": [
        "def lexical_diversity(text):\n",
        "  return len(text)/len(set(text))"
      ],
      "metadata": {
        "id": "FFgNHwGO3EJr"
      },
      "execution_count": 39,
      "outputs": []
    },
    {
      "cell_type": "code",
      "source": [
        "lexical_diversity(text3)"
      ],
      "metadata": {
        "colab": {
          "base_uri": "https://localhost:8080/"
        },
        "id": "7sJbDxqSDMgX",
        "outputId": "e4d834c0-3980-4b73-e021-91a2eb056e2f"
      },
      "execution_count": 40,
      "outputs": [
        {
          "output_type": "execute_result",
          "data": {
            "text/plain": [
              "16.050197203298673"
            ]
          },
          "metadata": {},
          "execution_count": 40
        }
      ]
    },
    {
      "cell_type": "code",
      "source": [
        "lexical_diversity(text5)"
      ],
      "metadata": {
        "colab": {
          "base_uri": "https://localhost:8080/"
        },
        "id": "B28IMARaDOzY",
        "outputId": "faac3fb3-f73e-4d67-dba9-68c00f366392"
      },
      "execution_count": 41,
      "outputs": [
        {
          "output_type": "execute_result",
          "data": {
            "text/plain": [
              "7.420046158918563"
            ]
          },
          "metadata": {},
          "execution_count": 41
        }
      ]
    },
    {
      "cell_type": "markdown",
      "source": [
        "## Texts as Lists of Words"
      ],
      "metadata": {
        "id": "rxPDvKYqDUbt"
      }
    },
    {
      "cell_type": "code",
      "source": [
        "sent1"
      ],
      "metadata": {
        "colab": {
          "base_uri": "https://localhost:8080/"
        },
        "id": "DFafNqd6Dmt4",
        "outputId": "2d880acc-98ad-44b5-f018-6985dd02f32f"
      },
      "execution_count": 42,
      "outputs": [
        {
          "output_type": "execute_result",
          "data": {
            "text/plain": [
              "['Call', 'me', 'Ishmael', '.']"
            ]
          },
          "metadata": {},
          "execution_count": 42
        }
      ]
    },
    {
      "cell_type": "code",
      "source": [
        "len(sent1)"
      ],
      "metadata": {
        "colab": {
          "base_uri": "https://localhost:8080/"
        },
        "id": "gl3_coLgDoNJ",
        "outputId": "9fce11f0-d9c2-436c-a92f-01d941a1ec02"
      },
      "execution_count": 43,
      "outputs": [
        {
          "output_type": "execute_result",
          "data": {
            "text/plain": [
              "4"
            ]
          },
          "metadata": {},
          "execution_count": 43
        }
      ]
    },
    {
      "cell_type": "code",
      "source": [
        "lexical_diversity(sent1)"
      ],
      "metadata": {
        "colab": {
          "base_uri": "https://localhost:8080/"
        },
        "id": "tyLfWzcEDqkw",
        "outputId": "62b070b0-deee-43f2-b5ae-9e6598bfc081"
      },
      "execution_count": 44,
      "outputs": [
        {
          "output_type": "execute_result",
          "data": {
            "text/plain": [
              "1.0"
            ]
          },
          "metadata": {},
          "execution_count": 44
        }
      ]
    },
    {
      "cell_type": "code",
      "source": [
        "sent3"
      ],
      "metadata": {
        "colab": {
          "base_uri": "https://localhost:8080/"
        },
        "id": "Y46X1NBrDtfN",
        "outputId": "b4465d51-34cd-4b63-885e-78e1d356780a"
      },
      "execution_count": 45,
      "outputs": [
        {
          "output_type": "execute_result",
          "data": {
            "text/plain": [
              "['In',\n",
              " 'the',\n",
              " 'beginning',\n",
              " 'God',\n",
              " 'created',\n",
              " 'the',\n",
              " 'heaven',\n",
              " 'and',\n",
              " 'the',\n",
              " 'earth',\n",
              " '.']"
            ]
          },
          "metadata": {},
          "execution_count": 45
        }
      ]
    },
    {
      "cell_type": "code",
      "source": [
        "sent4"
      ],
      "metadata": {
        "colab": {
          "base_uri": "https://localhost:8080/"
        },
        "id": "WGKdY8a-Dwqd",
        "outputId": "a7e8facd-09d8-47fb-e212-55bd633d7f21"
      },
      "execution_count": 46,
      "outputs": [
        {
          "output_type": "execute_result",
          "data": {
            "text/plain": [
              "['Fellow',\n",
              " '-',\n",
              " 'Citizens',\n",
              " 'of',\n",
              " 'the',\n",
              " 'Senate',\n",
              " 'and',\n",
              " 'of',\n",
              " 'the',\n",
              " 'House',\n",
              " 'of',\n",
              " 'Representatives',\n",
              " ':']"
            ]
          },
          "metadata": {},
          "execution_count": 46
        }
      ]
    },
    {
      "cell_type": "code",
      "source": [
        "my_sent = [\"twas\", \"brillig\", \"and\", \"the\", \"slithy\", \"toves\", \"did\", \"gyre\", \"and\", \"gimble\", \"in\", \"the\", \"wabe\"]"
      ],
      "metadata": {
        "id": "GVzjS7i_1iA2"
      },
      "execution_count": 47,
      "outputs": []
    },
    {
      "cell_type": "code",
      "source": [
        "len(my_sent)"
      ],
      "metadata": {
        "colab": {
          "base_uri": "https://localhost:8080/"
        },
        "id": "5C7ZfL95ECcF",
        "outputId": "a09f6f88-545c-46fd-ce46-ccac3d811462"
      },
      "execution_count": 48,
      "outputs": [
        {
          "output_type": "execute_result",
          "data": {
            "text/plain": [
              "13"
            ]
          },
          "metadata": {},
          "execution_count": 48
        }
      ]
    },
    {
      "cell_type": "code",
      "source": [
        "sorted(set(my_sent))"
      ],
      "metadata": {
        "colab": {
          "base_uri": "https://localhost:8080/"
        },
        "id": "TkTeoKhYED-V",
        "outputId": "ab6467d5-8038-4794-8e36-968247161c07"
      },
      "execution_count": 49,
      "outputs": [
        {
          "output_type": "execute_result",
          "data": {
            "text/plain": [
              "['and',\n",
              " 'brillig',\n",
              " 'did',\n",
              " 'gimble',\n",
              " 'gyre',\n",
              " 'in',\n",
              " 'slithy',\n",
              " 'the',\n",
              " 'toves',\n",
              " 'twas',\n",
              " 'wabe']"
            ]
          },
          "metadata": {},
          "execution_count": 49
        }
      ]
    },
    {
      "cell_type": "code",
      "source": [
        "my_sent.count(\"and\")"
      ],
      "metadata": {
        "colab": {
          "base_uri": "https://localhost:8080/"
        },
        "id": "md8hmJ7bEHTq",
        "outputId": "7c6d6e37-12e4-47eb-d422-f6b596135ee7"
      },
      "execution_count": 50,
      "outputs": [
        {
          "output_type": "execute_result",
          "data": {
            "text/plain": [
              "2"
            ]
          },
          "metadata": {},
          "execution_count": 50
        }
      ]
    },
    {
      "cell_type": "code",
      "source": [
        "my_sent + sent1"
      ],
      "metadata": {
        "colab": {
          "base_uri": "https://localhost:8080/"
        },
        "id": "fZdLQGoMEP0y",
        "outputId": "444721d1-dde8-4f86-f903-f0a479394662"
      },
      "execution_count": 51,
      "outputs": [
        {
          "output_type": "execute_result",
          "data": {
            "text/plain": [
              "['twas',\n",
              " 'brillig',\n",
              " 'and',\n",
              " 'the',\n",
              " 'slithy',\n",
              " 'toves',\n",
              " 'did',\n",
              " 'gyre',\n",
              " 'and',\n",
              " 'gimble',\n",
              " 'in',\n",
              " 'the',\n",
              " 'wabe',\n",
              " 'Call',\n",
              " 'me',\n",
              " 'Ishmael',\n",
              " '.']"
            ]
          },
          "metadata": {},
          "execution_count": 51
        }
      ]
    },
    {
      "cell_type": "code",
      "source": [
        "text4[173]"
      ],
      "metadata": {
        "colab": {
          "base_uri": "https://localhost:8080/",
          "height": 35
        },
        "id": "sgVJZd6oET0H",
        "outputId": "5ad37a2b-9a16-4867-aff9-88d57d46701d"
      },
      "execution_count": 52,
      "outputs": [
        {
          "output_type": "execute_result",
          "data": {
            "text/plain": [
              "'awaken'"
            ],
            "application/vnd.google.colaboratory.intrinsic+json": {
              "type": "string"
            }
          },
          "metadata": {},
          "execution_count": 52
        }
      ]
    },
    {
      "cell_type": "code",
      "source": [
        "text4.index(\"awaken\")"
      ],
      "metadata": {
        "colab": {
          "base_uri": "https://localhost:8080/"
        },
        "id": "3KNKjajBEeXo",
        "outputId": "6b9602e1-d0af-40c7-baa6-693f6afe02f7"
      },
      "execution_count": 53,
      "outputs": [
        {
          "output_type": "execute_result",
          "data": {
            "text/plain": [
              "173"
            ]
          },
          "metadata": {},
          "execution_count": 53
        }
      ]
    },
    {
      "cell_type": "code",
      "source": [
        "text4.count(\"awaken\")"
      ],
      "metadata": {
        "colab": {
          "base_uri": "https://localhost:8080/"
        },
        "id": "HWtZZ1AaEhmv",
        "outputId": "9f0e14af-698a-43be-c794-9360857f1b81"
      },
      "execution_count": 54,
      "outputs": [
        {
          "output_type": "execute_result",
          "data": {
            "text/plain": [
              "1"
            ]
          },
          "metadata": {},
          "execution_count": 54
        }
      ]
    },
    {
      "cell_type": "code",
      "source": [
        "my_sent[1] = \"mimsy\""
      ],
      "metadata": {
        "id": "7tSGTNM5EkGg"
      },
      "execution_count": 55,
      "outputs": []
    },
    {
      "cell_type": "code",
      "source": [
        "my_sent"
      ],
      "metadata": {
        "colab": {
          "base_uri": "https://localhost:8080/"
        },
        "id": "keE1hxdzE0rv",
        "outputId": "eb90f066-fd18-4c5b-8390-87522b3510a8"
      },
      "execution_count": 56,
      "outputs": [
        {
          "output_type": "execute_result",
          "data": {
            "text/plain": [
              "['twas',\n",
              " 'mimsy',\n",
              " 'and',\n",
              " 'the',\n",
              " 'slithy',\n",
              " 'toves',\n",
              " 'did',\n",
              " 'gyre',\n",
              " 'and',\n",
              " 'gimble',\n",
              " 'in',\n",
              " 'the',\n",
              " 'wabe']"
            ]
          },
          "metadata": {},
          "execution_count": 56
        }
      ]
    },
    {
      "cell_type": "code",
      "source": [
        "noun_phrase = my_sent[4:6]"
      ],
      "metadata": {
        "id": "aEYJph0hE2LF"
      },
      "execution_count": 57,
      "outputs": []
    },
    {
      "cell_type": "code",
      "source": [
        "noun_phrase"
      ],
      "metadata": {
        "colab": {
          "base_uri": "https://localhost:8080/"
        },
        "id": "dJWvytEZFAHY",
        "outputId": "e6ec0d98-1b27-4047-fb50-93f09f3ceaa2"
      },
      "execution_count": 58,
      "outputs": [
        {
          "output_type": "execute_result",
          "data": {
            "text/plain": [
              "['slithy', 'toves']"
            ]
          },
          "metadata": {},
          "execution_count": 58
        }
      ]
    },
    {
      "cell_type": "markdown",
      "source": [
        "##Computing with Language: Simple Statistics"
      ],
      "metadata": {
        "id": "7z3sSIGSFBU3"
      }
    },
    {
      "cell_type": "code",
      "source": [
        "fdist1 = FreqDist(text1)"
      ],
      "metadata": {
        "id": "21ZM5YAREcBp"
      },
      "execution_count": 59,
      "outputs": []
    },
    {
      "cell_type": "code",
      "source": [
        "fdist1"
      ],
      "metadata": {
        "colab": {
          "base_uri": "https://localhost:8080/"
        },
        "id": "8qMxntklh0Y_",
        "outputId": "5ddbe4a7-6a92-4f46-f4ca-13175bd68421"
      },
      "execution_count": 60,
      "outputs": [
        {
          "output_type": "execute_result",
          "data": {
            "text/plain": [
              "FreqDist({',': 18713, 'the': 13721, '.': 6862, 'of': 6536, 'and': 6024, 'a': 4569, 'to': 4542, ';': 4072, 'in': 3916, 'that': 2982, ...})"
            ]
          },
          "metadata": {},
          "execution_count": 60
        }
      ]
    },
    {
      "cell_type": "code",
      "source": [
        "vocabulary = list(fdist1.keys())"
      ],
      "metadata": {
        "id": "htSjGf6Ch14Q"
      },
      "execution_count": 61,
      "outputs": []
    },
    {
      "cell_type": "code",
      "source": [
        "vocabulary[:50]"
      ],
      "metadata": {
        "colab": {
          "base_uri": "https://localhost:8080/"
        },
        "id": "xgENdBqWh8eO",
        "outputId": "cc314e1c-9860-4dd1-993c-37d8d83573ec"
      },
      "execution_count": 62,
      "outputs": [
        {
          "output_type": "execute_result",
          "data": {
            "text/plain": [
              "['[',\n",
              " 'Moby',\n",
              " 'Dick',\n",
              " 'by',\n",
              " 'Herman',\n",
              " 'Melville',\n",
              " '1851',\n",
              " ']',\n",
              " 'ETYMOLOGY',\n",
              " '.',\n",
              " '(',\n",
              " 'Supplied',\n",
              " 'a',\n",
              " 'Late',\n",
              " 'Consumptive',\n",
              " 'Usher',\n",
              " 'to',\n",
              " 'Grammar',\n",
              " 'School',\n",
              " ')',\n",
              " 'The',\n",
              " 'pale',\n",
              " '--',\n",
              " 'threadbare',\n",
              " 'in',\n",
              " 'coat',\n",
              " ',',\n",
              " 'heart',\n",
              " 'body',\n",
              " 'and',\n",
              " 'brain',\n",
              " ';',\n",
              " 'I',\n",
              " 'see',\n",
              " 'him',\n",
              " 'now',\n",
              " 'He',\n",
              " 'was',\n",
              " 'ever',\n",
              " 'dusting',\n",
              " 'his',\n",
              " 'old',\n",
              " 'lexicons',\n",
              " 'grammars',\n",
              " 'with',\n",
              " 'queer',\n",
              " 'handkerchief',\n",
              " 'mockingly',\n",
              " 'embellished',\n",
              " 'all']"
            ]
          },
          "metadata": {},
          "execution_count": 62
        }
      ]
    },
    {
      "cell_type": "code",
      "source": [
        "fdist1.plot(50, cumulative=True)"
      ],
      "metadata": {
        "colab": {
          "base_uri": "https://localhost:8080/",
          "height": 316
        },
        "id": "q-y-irWfh-qe",
        "outputId": "e8d49955-536f-48bb-c9f6-b8e46f289f59"
      },
      "execution_count": 63,
      "outputs": [
        {
          "output_type": "display_data",
          "data": {
            "text/plain": [
              "<Figure size 432x288 with 1 Axes>"
            ],
            "image/png": "[encoded data removed]"
          },
          "metadata": {
            "needs_background": "light"
          }
        },
        {
          "output_type": "execute_result",
          "data": {
            "text/plain": [
              "<matplotlib.axes._subplots.AxesSubplot at 0x7fe5a230bd30>"
            ]
          },
          "metadata": {},
          "execution_count": 63
        }
      ]
    },
    {
      "cell_type": "code",
      "source": [
        "# Long words in text\n",
        "v = set(text1)\n",
        "long_words = sorted([w for w in v if len(w) > 15])\n",
        "long_words"
      ],
      "metadata": {
        "colab": {
          "base_uri": "https://localhost:8080/"
        },
        "id": "7NlCA9FjsmU4",
        "outputId": "634d070c-edd1-4626-c44f-994a7bdf0d69"
      },
      "execution_count": 64,
      "outputs": [
        {
          "output_type": "execute_result",
          "data": {
            "text/plain": [
              "['CIRCUMNAVIGATION',\n",
              " 'Physiognomically',\n",
              " 'apprehensiveness',\n",
              " 'cannibalistically',\n",
              " 'characteristically',\n",
              " 'circumnavigating',\n",
              " 'circumnavigation',\n",
              " 'circumnavigations',\n",
              " 'comprehensiveness',\n",
              " 'hermaphroditical',\n",
              " 'indiscriminately',\n",
              " 'indispensableness',\n",
              " 'irresistibleness',\n",
              " 'physiognomically',\n",
              " 'preternaturalness',\n",
              " 'responsibilities',\n",
              " 'simultaneousness',\n",
              " 'subterraneousness',\n",
              " 'supernaturalness',\n",
              " 'superstitiousness',\n",
              " 'uncomfortableness',\n",
              " 'uncompromisedness',\n",
              " 'undiscriminating',\n",
              " 'uninterpenetratingly']"
            ]
          },
          "metadata": {},
          "execution_count": 64
        }
      ]
    },
    {
      "cell_type": "code",
      "source": [
        "sorted([w for w in set(text2) if len(w) > 15])"
      ],
      "metadata": {
        "colab": {
          "base_uri": "https://localhost:8080/"
        },
        "id": "LWCHZSbjtA2O",
        "outputId": "04e38aa7-0431-49da-fada-0e18def766f7"
      },
      "execution_count": 65,
      "outputs": [
        {
          "output_type": "execute_result",
          "data": {
            "text/plain": [
              "['companionableness',\n",
              " 'disinterestedness',\n",
              " 'disqualifications',\n",
              " 'incomprehensible']"
            ]
          },
          "metadata": {},
          "execution_count": 65
        }
      ]
    },
    {
      "cell_type": "code",
      "source": [
        "# Frequently occurring long words\n",
        "fdist5 = FreqDist(text5)\n",
        "sorted([w for w in set(text5) if len(w) > 7 and fdist5[w] > 7])"
      ],
      "metadata": {
        "colab": {
          "base_uri": "https://localhost:8080/"
        },
        "id": "Uqtiz8wPtN5M",
        "outputId": "8e4c44ad-6cda-4bc7-fc6f-e62113e3be68"
      },
      "execution_count": 66,
      "outputs": [
        {
          "output_type": "execute_result",
          "data": {
            "text/plain": [
              "['#14-19teens',\n",
              " '#talkcity_adults',\n",
              " '((((((((((',\n",
              " '........',\n",
              " 'Question',\n",
              " 'actually',\n",
              " 'anything',\n",
              " 'computer',\n",
              " 'cute.-ass',\n",
              " 'everyone',\n",
              " 'football',\n",
              " 'innocent',\n",
              " 'listening',\n",
              " 'remember',\n",
              " 'seriously',\n",
              " 'something',\n",
              " 'together',\n",
              " 'tomorrow',\n",
              " 'watching']"
            ]
          },
          "metadata": {},
          "execution_count": 66
        }
      ]
    },
    {
      "cell_type": "markdown",
      "source": [
        "### Collocations and Bigrams"
      ],
      "metadata": {
        "id": "y2mvksvxttgV"
      }
    },
    {
      "cell_type": "code",
      "source": [
        "list(bigrams([\"more\", \"is\", \"said\", \"than\", \"done\"]))"
      ],
      "metadata": {
        "colab": {
          "base_uri": "https://localhost:8080/"
        },
        "id": "-tF_sMkjt7Sl",
        "outputId": "0775f3bf-609f-4565-fd84-ffb7dcf9734e"
      },
      "execution_count": 68,
      "outputs": [
        {
          "output_type": "execute_result",
          "data": {
            "text/plain": [
              "[('more', 'is'), ('is', 'said'), ('said', 'than'), ('than', 'done')]"
            ]
          },
          "metadata": {},
          "execution_count": 68
        }
      ]
    },
    {
      "cell_type": "code",
      "source": [
        "text4.collocations()"
      ],
      "metadata": {
        "colab": {
          "base_uri": "https://localhost:8080/"
        },
        "id": "ki136wj9uG7w",
        "outputId": "0782faa7-0b0a-4f17-c646-d5f253d0b48e"
      },
      "execution_count": 69,
      "outputs": [
        {
          "output_type": "stream",
          "name": "stdout",
          "text": [
            "United States; fellow citizens; years ago; four years; Federal\n",
            "Government; General Government; American people; Vice President; God\n",
            "bless; Chief Justice; one another; fellow Americans; Old World;\n",
            "Almighty God; Fellow citizens; Chief Magistrate; every citizen; Indian\n",
            "tribes; public debt; foreign nations\n"
          ]
        }
      ]
    },
    {
      "cell_type": "code",
      "source": [
        "text8.collocations()"
      ],
      "metadata": {
        "colab": {
          "base_uri": "https://localhost:8080/"
        },
        "id": "ntDPQNm2uNzl",
        "outputId": "4d4deec6-9593-4761-d99e-d2b328d1dcf0"
      },
      "execution_count": 70,
      "outputs": [
        {
          "output_type": "stream",
          "name": "stdout",
          "text": [
            "would like; medium build; social drinker; quiet nights; non smoker;\n",
            "long term; age open; Would like; easy going; financially secure; fun\n",
            "times; similar interests; Age open; weekends away; poss rship; well\n",
            "presented; never married; single mum; permanent relationship; slim\n",
            "build\n"
          ]
        }
      ]
    },
    {
      "cell_type": "code",
      "source": [
        "text7.collocations()"
      ],
      "metadata": {
        "colab": {
          "base_uri": "https://localhost:8080/"
        },
        "id": "rVh5YsGTuUVl",
        "outputId": "a9cf5a95-ae30-4094-e48a-c0481bcfbcbd"
      },
      "execution_count": 72,
      "outputs": [
        {
          "output_type": "stream",
          "name": "stdout",
          "text": [
            "million *U*; New York; billion *U*; Wall Street; program trading; Mrs.\n",
            "Yeargin; vice president; Stock Exchange; Big Board; Georgia Gulf;\n",
            "chief executive; Dow Jones; S&P 500; says *T*-1; York Stock; last\n",
            "year; Sea Containers; South Korea; American Express; San Francisco\n"
          ]
        }
      ]
    },
    {
      "cell_type": "code",
      "source": [
        "fdist7 = FreqDist(text7)"
      ],
      "metadata": {
        "id": "IOUw91NSuB0Q"
      },
      "execution_count": 73,
      "outputs": []
    },
    {
      "cell_type": "code",
      "source": [
        "fdist7.tabulate(20)"
      ],
      "metadata": {
        "colab": {
          "base_uri": "https://localhost:8080/"
        },
        "id": "TqPKLJ0mu3Cj",
        "outputId": "38c9e247-cf97-4d52-8dd4-10dbe4d546f8"
      },
      "execution_count": 74,
      "outputs": [
        {
          "output_type": "stream",
          "name": "stdout",
          "text": [
            "    ,   the     .    of    to     a    in   and   *-1     0     *    's   for  that *T*-1   *U*     $   The    ``    '' \n",
            " 4885  4045  3828  2319  2164  1878  1572  1511  1123  1099   965   864   817   807   806   744   718   717   702   684 \n"
          ]
        }
      ]
    },
    {
      "cell_type": "code",
      "source": [],
      "metadata": {
        "id": "VCgL5oZBvCEp"
      },
      "execution_count": null,
      "outputs": []
    }
  ]
}